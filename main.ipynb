{
 "cells": [
  {
   "cell_type": "markdown",
   "metadata": {},
   "source": [
    "# Intro:\n",
    "This is an implementation of this: https://arxiv.org/pdf/2212.10717 paper on a Resnet34 model using CIFAR100"
   ]
  },
  {
   "cell_type": "markdown",
   "metadata": {},
   "source": [
    "## Load Data"
   ]
  },
  {
   "cell_type": "code",
   "execution_count": null,
   "metadata": {},
   "outputs": [],
   "source": [
    "import torch as t\n",
    "import torch.nn as nn\n",
    "import torch.nn.functional as F\n",
    "import torchvision as tv\n",
    "import torchvision.transforms as transforms\n",
    "\n",
    "# Define the transform to normalize the data\n",
    "transform = transforms.Compose(\n",
    "  [transforms.ToTensor(),\n",
    "   transforms.Normalize((0.5, 0.5, 0.5), (0.5, 0.5, 0.5))])\n",
    "\n",
    "def get_dataset():\n",
    "  # Load the CIFAR-100 training and test datasets\n",
    "  trainset = tv.datasets.CIFAR100(root='data', train=True,\n",
    "                      download=True, transform=transform)\n",
    "\n",
    "\n",
    "  testset = tv.datasets.CIFAR100(root='data', train=False,\n",
    "                      download=True, transform=transform)\n",
    "  return trainset, testset\n",
    "\n",
    "trainset, testset = get_dataset()\n",
    "\n",
    "\n",
    "classes = trainset.classes"
   ]
  },
  {
   "cell_type": "code",
   "execution_count": null,
   "metadata": {},
   "outputs": [],
   "source": [
    "import numpy as np\n",
    "import matplotlib.pyplot as plt\n",
    "\n",
    "def imshow(img: t.Tensor):\n",
    "  img = img / 2 + 0.5  # unnormalize\n",
    "  npimg = img.numpy()\n",
    "  plt.imshow(np.transpose(npimg, (1, 2, 0)))\n",
    "  plt.show()\n",
    "\n",
    "# Get a random image from the trainset\n",
    "image, label = trainset[3]\n",
    "\n",
    "# Display the image\n",
    "imshow(image)\n",
    "print(classes[label])"
   ]
  },
  {
   "cell_type": "markdown",
   "metadata": {},
   "source": [
    "## Train Loop"
   ]
  },
  {
   "cell_type": "code",
   "execution_count": null,
   "metadata": {},
   "outputs": [],
   "source": [
    "from dataclasses import dataclass\n",
    "from tqdm import tqdm\n",
    "\n",
    "@dataclass\n",
    "class ResNetTrainingArgs:\n",
    "  batch_size: int = 64\n",
    "  num_workers: int = 2\n",
    "  epochs: int = 20\n",
    "  learning_rate: float = 1e-3\n",
    "  n_classes: int = 100\n",
    "\n",
    "\n",
    "def train_and_validate(args: ResNetTrainingArgs, model: nn.Module, device: t.device) -> tuple[list[float], list[float], nn.Module]:\n",
    "  \"\"\"\n",
    "  Performs feature extraction on ResNet, returning the model & lists of loss and accuracy.\n",
    "  \"\"\"\n",
    "  # YOUR CODE HERE - write your train function for feature extraction\n",
    "  optimizer = t.optim.AdamW(model.parameters(), lr=args.learning_rate)\n",
    "\n",
    "  trainset, testset = get_dataset()\n",
    "  trainloader = t.utils.data.DataLoader(trainset, batch_size=args.batch_size,\n",
    "                       shuffle=True, num_workers=args.num_workers)\n",
    "  testloader = t.utils.data.DataLoader(testset, batch_size=args.batch_size,\n",
    "                      shuffle=False, num_workers=args.num_workers)\n",
    "\n",
    "  loss_list = []\n",
    "  accuracy_list = []\n",
    "\n",
    "  for epoch in range(args.epochs):\n",
    "    pbar_train = tqdm(trainloader)\n",
    "\n",
    "    model.train()\n",
    "    for imgs, labels in pbar_train:\n",
    "      # Move data to device, perform forward pass\n",
    "      imgs, labels = imgs.to(device), labels.to(device)\n",
    "      logits = model(imgs)\n",
    "\n",
    "      # Calculate loss, perform backward pass\n",
    "      loss = F.cross_entropy(logits, labels)\n",
    "      loss.backward()\n",
    "      optimizer.step()\n",
    "      optimizer.zero_grad()\n",
    "\n",
    "      # Update logs & progress bar\n",
    "      loss_list.append(loss.item())\n",
    "      pbar_train.set_postfix(epoch=f\"{epoch+1}/{args.epochs}\", loss=f\"{loss:.3f}\")\n",
    "\n",
    "\n",
    "    correct_results = 0\n",
    "    model.eval()\n",
    "    for imgs, labels in testloader:\n",
    "      # Move data to device, perform forward pass\n",
    "      imgs, labels = imgs.to(device), labels.to(device)\n",
    "\n",
    "      with t.inference_mode():\n",
    "        logits: t.Tensor = model(imgs)\n",
    "\n",
    "        predicted = t.argmax(logits, dim=-1)\n",
    "\n",
    "        correct_results += (predicted == labels).sum().item()\n",
    "\n",
    "    # Update logs\n",
    "    accuracy = correct_results/len(testset)\n",
    "    accuracy_list.append(accuracy)\n",
    "\n",
    "    print(f\"Epoch Accuracy: {accuracy}\")\n",
    "\n",
    "  return loss_list, accuracy_list, model"
   ]
  },
  {
   "cell_type": "code",
   "execution_count": null,
   "metadata": {},
   "outputs": [],
   "source": [
    "from model import ResNet34\n",
    "\n",
    "device = t.device(\"mps\" if t.backends.mps.is_available() else \"cuda\" if t.cuda.is_available() else \"cpu\")\n",
    "training_args = ResNetTrainingArgs(batch_size=128, num_workers=2, epochs=10, learning_rate=0.001, n_classes=100)\n",
    "\n",
    "model = ResNet34(n_classes=100).to(device)\n",
    "\n",
    "device"
   ]
  },
  {
   "cell_type": "code",
   "execution_count": null,
   "metadata": {},
   "outputs": [],
   "source": [
    "loss_list, accuracy_list, model = train_and_validate(training_args, model, device)"
   ]
  }
 ],
 "metadata": {
  "kernelspec": {
   "display_name": ".venv",
   "language": "python",
   "name": "python3"
  },
  "language_info": {
   "codemirror_mode": {
    "name": "ipython",
    "version": 3
   },
   "file_extension": ".py",
   "mimetype": "text/x-python",
   "name": "python",
   "nbconvert_exporter": "python",
   "pygments_lexer": "ipython3",
   "version": "3.11.9"
  }
 },
 "nbformat": 4,
 "nbformat_minor": 2
}
